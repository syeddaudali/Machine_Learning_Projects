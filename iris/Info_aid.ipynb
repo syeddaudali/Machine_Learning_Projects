{
 "cells": [
  {
   "cell_type": "markdown",
   "id": "a99d3ba1",
   "metadata": {},
   "source": [
    "# Importing Necessary Libraries "
   ]
  },
  {
   "cell_type": "code",
   "execution_count": 332,
   "id": "4b54ee78",
   "metadata": {},
   "outputs": [],
   "source": [
    "import pandas as pd\n",
    "\n",
    "import matplotlib.pyplot as plt\n",
    "\n",
    "import seaborn as sns\n",
    "\n",
    "import warnings\n",
    "warnings.filterwarnings('ignore')\n",
    "\n",
    "from sklearn.model_selection import train_test_split\n",
    "\n",
    "from sklearn.svm import SVC\n",
    "\n",
    "from sklearn.neighbors import KNeighborsClassifier\n",
    "\n",
    "from sklearn.tree import DecisionTreeClassifier\n",
    "\n",
    "from sklearn.linear_model import LogisticRegression\n",
    "\n",
    "from sklearn.ensemble import GradientBoostingClassifier\n",
    "\n",
    "from sklearn.metrics import accuracy_score,classification_report,confusion_matrix"
   ]
  },
  {
   "cell_type": "markdown",
   "id": "7ad8fe60",
   "metadata": {},
   "source": [
    "# Loading Data_Set"
   ]
  },
  {
   "cell_type": "code",
   "execution_count": 333,
   "id": "64c9e19f",
   "metadata": {},
   "outputs": [],
   "source": [
    "df=pd.read_csv(\"IRIS.csv\")"
   ]
  },
  {
   "cell_type": "markdown",
   "id": "b4619e3e",
   "metadata": {},
   "source": [
    "# Showing 3 Sample Rows of the Data_Set"
   ]
  },
  {
   "cell_type": "code",
   "execution_count": 334,
   "id": "db05fded",
   "metadata": {},
   "outputs": [
    {
     "data": {
      "text/html": [
       "<div>\n",
       "<style scoped>\n",
       "    .dataframe tbody tr th:only-of-type {\n",
       "        vertical-align: middle;\n",
       "    }\n",
       "\n",
       "    .dataframe tbody tr th {\n",
       "        vertical-align: top;\n",
       "    }\n",
       "\n",
       "    .dataframe thead th {\n",
       "        text-align: right;\n",
       "    }\n",
       "</style>\n",
       "<table border=\"1\" class=\"dataframe\">\n",
       "  <thead>\n",
       "    <tr style=\"text-align: right;\">\n",
       "      <th></th>\n",
       "      <th>sepal_length</th>\n",
       "      <th>sepal_width</th>\n",
       "      <th>petal_length</th>\n",
       "      <th>petal_width</th>\n",
       "      <th>species</th>\n",
       "    </tr>\n",
       "  </thead>\n",
       "  <tbody>\n",
       "    <tr>\n",
       "      <th>34</th>\n",
       "      <td>4.9</td>\n",
       "      <td>3.1</td>\n",
       "      <td>1.5</td>\n",
       "      <td>0.1</td>\n",
       "      <td>Iris-setosa</td>\n",
       "    </tr>\n",
       "    <tr>\n",
       "      <th>10</th>\n",
       "      <td>5.4</td>\n",
       "      <td>3.7</td>\n",
       "      <td>1.5</td>\n",
       "      <td>0.2</td>\n",
       "      <td>Iris-setosa</td>\n",
       "    </tr>\n",
       "    <tr>\n",
       "      <th>31</th>\n",
       "      <td>5.4</td>\n",
       "      <td>3.4</td>\n",
       "      <td>1.5</td>\n",
       "      <td>0.4</td>\n",
       "      <td>Iris-setosa</td>\n",
       "    </tr>\n",
       "  </tbody>\n",
       "</table>\n",
       "</div>"
      ],
      "text/plain": [
       "    sepal_length  sepal_width  petal_length  petal_width      species\n",
       "34           4.9          3.1           1.5          0.1  Iris-setosa\n",
       "10           5.4          3.7           1.5          0.2  Iris-setosa\n",
       "31           5.4          3.4           1.5          0.4  Iris-setosa"
      ]
     },
     "execution_count": 334,
     "metadata": {},
     "output_type": "execute_result"
    }
   ],
   "source": [
    "df.sample(3)"
   ]
  },
  {
   "cell_type": "markdown",
   "id": "8b97b59f",
   "metadata": {},
   "source": [
    "# Data Information"
   ]
  },
  {
   "cell_type": "code",
   "execution_count": 335,
   "id": "2c5ebd1e",
   "metadata": {},
   "outputs": [
    {
     "name": "stdout",
     "output_type": "stream",
     "text": [
      "<class 'pandas.core.frame.DataFrame'>\n",
      "RangeIndex: 150 entries, 0 to 149\n",
      "Data columns (total 5 columns):\n",
      " #   Column        Non-Null Count  Dtype  \n",
      "---  ------        --------------  -----  \n",
      " 0   sepal_length  150 non-null    float64\n",
      " 1   sepal_width   150 non-null    float64\n",
      " 2   petal_length  150 non-null    float64\n",
      " 3   petal_width   150 non-null    float64\n",
      " 4   species       150 non-null    object \n",
      "dtypes: float64(4), object(1)\n",
      "memory usage: 6.0+ KB\n"
     ]
    }
   ],
   "source": [
    "df.info()"
   ]
  },
  {
   "cell_type": "markdown",
   "id": "6b93c729",
   "metadata": {},
   "source": [
    "# Column Names of Data_Set"
   ]
  },
  {
   "cell_type": "code",
   "execution_count": 336,
   "id": "ce867f81",
   "metadata": {},
   "outputs": [
    {
     "data": {
      "text/plain": [
       "Index(['sepal_length', 'sepal_width', 'petal_length', 'petal_width',\n",
       "       'species'],\n",
       "      dtype='object')"
      ]
     },
     "execution_count": 336,
     "metadata": {},
     "output_type": "execute_result"
    }
   ],
   "source": [
    "df.columns"
   ]
  },
  {
   "cell_type": "markdown",
   "id": "1570f7f1",
   "metadata": {},
   "source": [
    "# Shape of Data_Set"
   ]
  },
  {
   "cell_type": "code",
   "execution_count": 337,
   "id": "3561e500",
   "metadata": {},
   "outputs": [
    {
     "name": "stdout",
     "output_type": "stream",
     "text": [
      "The total number of rows in the Data_Set is  150\n",
      "The total number of columns in the Data_Set is  5\n"
     ]
    }
   ],
   "source": [
    "print(\"The total number of rows in the Data_Set is \",df.shape[0])\n",
    "print(\"The total number of columns in the Data_Set is \",df.shape[1])"
   ]
  },
  {
   "cell_type": "markdown",
   "id": "414efc4c",
   "metadata": {},
   "source": [
    "# Check Null Values"
   ]
  },
  {
   "cell_type": "code",
   "execution_count": 338,
   "id": "54b14a9d",
   "metadata": {},
   "outputs": [
    {
     "data": {
      "text/plain": [
       "sepal_length    0\n",
       "sepal_width     0\n",
       "petal_length    0\n",
       "petal_width     0\n",
       "species         0\n",
       "dtype: int64"
      ]
     },
     "execution_count": 338,
     "metadata": {},
     "output_type": "execute_result"
    }
   ],
   "source": [
    "df.isnull().sum()"
   ]
  },
  {
   "cell_type": "markdown",
   "id": "e75c852b",
   "metadata": {},
   "source": [
    "# Checking Duplicate Values"
   ]
  },
  {
   "cell_type": "code",
   "execution_count": 339,
   "id": "8013a01c",
   "metadata": {},
   "outputs": [
    {
     "data": {
      "text/plain": [
       "3"
      ]
     },
     "execution_count": 339,
     "metadata": {},
     "output_type": "execute_result"
    }
   ],
   "source": [
    "df.duplicated().sum()"
   ]
  },
  {
   "cell_type": "code",
   "execution_count": null,
   "id": "eb25f0a8",
   "metadata": {},
   "outputs": [],
   "source": []
  },
  {
   "cell_type": "markdown",
   "id": "7acf9f5a",
   "metadata": {},
   "source": [
    "# Removing Duplicates"
   ]
  },
  {
   "cell_type": "code",
   "execution_count": 340,
   "id": "e2f82726",
   "metadata": {},
   "outputs": [
    {
     "name": "stdout",
     "output_type": "stream",
     "text": [
      "The total number of rows in the Data_Set is: 147\n",
      "The total number of columns in the Data_Set is: 5\n"
     ]
    }
   ],
   "source": [
    "df=df.drop_duplicates()\n",
    "print(\"The total number of rows in the Data_Set is:\",df.shape[0])\n",
    "print(\"The total number of columns in the Data_Set is:\",df.shape[1])"
   ]
  },
  {
   "cell_type": "code",
   "execution_count": null,
   "id": "0e3f9e12",
   "metadata": {},
   "outputs": [],
   "source": []
  },
  {
   "cell_type": "markdown",
   "id": "eed7baa4",
   "metadata": {},
   "source": [
    "# Univariate Analysis"
   ]
  },
  {
   "cell_type": "code",
   "execution_count": 341,
   "id": "836af003",
   "metadata": {},
   "outputs": [
    {
     "data": {
      "image/png": "[encoded data removed]",
      "text/plain": [
       "<Figure size 432x288 with 1 Axes>"
      ]
     },
     "metadata": {
      "needs_background": "light"
     },
     "output_type": "display_data"
    }
   ],
   "source": [
    "plt.hist(df['sepal_length'],edgecolor='black');\n",
    "plt.title(\"Histogram of Sepal Length\");"
   ]
  },
  {
   "cell_type": "code",
   "execution_count": 342,
   "id": "de5a1e0f",
   "metadata": {},
   "outputs": [
    {
     "data": {
      "image/png": "[encoded data removed]",
      "text/plain": [
       "<Figure size 432x288 with 1 Axes>"
      ]
     },
     "metadata": {
      "needs_background": "light"
     },
     "output_type": "display_data"
    }
   ],
   "source": [
    "plt.hist(df['sepal_width'],edgecolor='black');\n",
    "plt.title(\"Histogram of Sepal width\");"
   ]
  },
  {
   "cell_type": "code",
   "execution_count": 343,
   "id": "577f1b4c",
   "metadata": {},
   "outputs": [
    {
     "data": {
      "image/png": "[encoded data removed]",
      "text/plain": [
       "<Figure size 432x288 with 1 Axes>"
      ]
     },
     "metadata": {
      "needs_background": "light"
     },
     "output_type": "display_data"
    }
   ],
   "source": [
    "plt.hist(df['petal_length'],edgecolor='black');\n",
    "plt.title(\"Histogram of petal Length\");"
   ]
  },
  {
   "cell_type": "code",
   "execution_count": 344,
   "id": "4440bee8",
   "metadata": {},
   "outputs": [
    {
     "data": {
      "image/png": "[encoded data removed]",
      "text/plain": [
       "<Figure size 432x288 with 1 Axes>"
      ]
     },
     "metadata": {
      "needs_background": "light"
     },
     "output_type": "display_data"
    }
   ],
   "source": [
    "plt.hist(df['petal_width'],edgecolor='black');\n",
    "plt.title(\"Histogram of petal width\");"
   ]
  },
  {
   "cell_type": "code",
   "execution_count": null,
   "id": "f5bb49d7",
   "metadata": {},
   "outputs": [],
   "source": []
  },
  {
   "cell_type": "markdown",
   "id": "c74292b0",
   "metadata": {},
   "source": [
    "# Bivariate Analysis"
   ]
  },
  {
   "cell_type": "code",
   "execution_count": null,
   "id": "404bdbb0",
   "metadata": {},
   "outputs": [],
   "source": []
  },
  {
   "cell_type": "code",
   "execution_count": 345,
   "id": "da929ad0",
   "metadata": {},
   "outputs": [
    {
     "data": {
      "image/png": "[encoded data removed]",
      "text/plain": [
       "<Figure size 432x288 with 1 Axes>"
      ]
     },
     "metadata": {
      "needs_background": "light"
     },
     "output_type": "display_data"
    }
   ],
   "source": [
    "plt.scatter(df['sepal_length'],df['sepal_width'],color='red')\n",
    "plt.xlabel(\"sepal_length\")\n",
    "plt.ylabel(\"sepal_width\")\n",
    "plt.title(\"Scatter Plot Between sepal Length and Width\");\n"
   ]
  },
  {
   "cell_type": "code",
   "execution_count": null,
   "id": "7c06f319",
   "metadata": {},
   "outputs": [],
   "source": []
  },
  {
   "cell_type": "code",
   "execution_count": 346,
   "id": "5bab14db",
   "metadata": {},
   "outputs": [
    {
     "data": {
      "image/png": "[encoded data removed]",
      "text/plain": [
       "<Figure size 432x288 with 1 Axes>"
      ]
     },
     "metadata": {
      "needs_background": "light"
     },
     "output_type": "display_data"
    }
   ],
   "source": [
    "plt.scatter(df['petal_length'],df['petal_width'],color='red')\n",
    "plt.xlabel(\"petal_length\")\n",
    "plt.ylabel(\"petal_width\")\n",
    "plt.title(\"Scatter Plot Between Petal Length and Width\");"
   ]
  },
  {
   "cell_type": "code",
   "execution_count": null,
   "id": "9f18761d",
   "metadata": {},
   "outputs": [],
   "source": []
  },
  {
   "cell_type": "markdown",
   "id": "ae818454",
   "metadata": {},
   "source": [
    "# Multivariate Analysis"
   ]
  },
  {
   "cell_type": "code",
   "execution_count": 347,
   "id": "06c5057e",
   "metadata": {},
   "outputs": [
    {
     "data": {
      "text/plain": [
       "<AxesSubplot:>"
      ]
     },
     "execution_count": 347,
     "metadata": {},
     "output_type": "execute_result"
    },
    {
     "data": {
      "image/png": "[encoded data removed]",
      "text/plain": [
       "<Figure size 432x288 with 2 Axes>"
      ]
     },
     "metadata": {
      "needs_background": "light"
     },
     "output_type": "display_data"
    }
   ],
   "source": [
    "sns.heatmap(df[['sepal_length', 'sepal_width', 'petal_length', 'petal_width']].corr(),annot=True,fmt='0.1f')"
   ]
  },
  {
   "cell_type": "code",
   "execution_count": 348,
   "id": "fa53c8b3",
   "metadata": {},
   "outputs": [
    {
     "data": {
      "image/png": "[encoded data removed]",
      "text/plain": [
       "<Figure size 432x288 with 1 Axes>"
      ]
     },
     "metadata": {
      "needs_background": "light"
     },
     "output_type": "display_data"
    }
   ],
   "source": [
    "sns.countplot(df['species']);"
   ]
  },
  {
   "cell_type": "code",
   "execution_count": null,
   "id": "daa84e66",
   "metadata": {},
   "outputs": [],
   "source": []
  },
  {
   "cell_type": "markdown",
   "id": "b037751e",
   "metadata": {},
   "source": [
    "# Data Preprocessing"
   ]
  },
  {
   "cell_type": "code",
   "execution_count": 349,
   "id": "a8e79054",
   "metadata": {},
   "outputs": [],
   "source": [
    "x=df[['sepal_length', 'sepal_width', 'petal_length', 'petal_width']]\n",
    "y=df['species']"
   ]
  },
  {
   "cell_type": "code",
   "execution_count": 350,
   "id": "1c74c8e6",
   "metadata": {},
   "outputs": [],
   "source": [
    "x_train,x_test,y_train,y_test=train_test_split(x,y,test_size=0.2,random_state=42)"
   ]
  },
  {
   "cell_type": "code",
   "execution_count": 351,
   "id": "b44154f8",
   "metadata": {},
   "outputs": [
    {
     "name": "stdout",
     "output_type": "stream",
     "text": [
      "The Shape of training Data_set is: (117, 4)\n",
      "The Shape of test Data_set is: (30, 4)\n"
     ]
    }
   ],
   "source": [
    "print(\"The Shape of training Data_set is:\",x_train.shape)\n",
    "print(\"The Shape of test Data_set is:\",x_test.shape)"
   ]
  },
  {
   "cell_type": "code",
   "execution_count": null,
   "id": "3fb043d9",
   "metadata": {},
   "outputs": [],
   "source": []
  },
  {
   "cell_type": "markdown",
   "id": "b377aaa1",
   "metadata": {},
   "source": [
    "# Applying Different Algorithms"
   ]
  },
  {
   "cell_type": "code",
   "execution_count": null,
   "id": "e4def7ff",
   "metadata": {},
   "outputs": [],
   "source": []
  },
  {
   "cell_type": "markdown",
   "id": "51bf56d0",
   "metadata": {},
   "source": [
    "# Logistics Regression\n"
   ]
  },
  {
   "cell_type": "code",
   "execution_count": 352,
   "id": "f8809a19",
   "metadata": {},
   "outputs": [],
   "source": [
    "model_1=LogisticRegression()"
   ]
  },
  {
   "cell_type": "code",
   "execution_count": 353,
   "id": "0a8acda1",
   "metadata": {},
   "outputs": [
    {
     "data": {
      "text/plain": [
       "LogisticRegression()"
      ]
     },
     "execution_count": 353,
     "metadata": {},
     "output_type": "execute_result"
    }
   ],
   "source": [
    "model_1.fit(x_train,y_train)"
   ]
  },
  {
   "cell_type": "code",
   "execution_count": 354,
   "id": "eb662caa",
   "metadata": {},
   "outputs": [],
   "source": [
    "y_pred=model_1.predict(x_test)"
   ]
  },
  {
   "cell_type": "markdown",
   "id": "f423da90",
   "metadata": {},
   "source": [
    "Accuracy Score"
   ]
  },
  {
   "cell_type": "code",
   "execution_count": 355,
   "id": "776c9c8e",
   "metadata": {},
   "outputs": [],
   "source": [
    "acc1 = accuracy_score(y_pred,y_test)"
   ]
  },
  {
   "cell_type": "code",
   "execution_count": 356,
   "id": "5c050f39",
   "metadata": {},
   "outputs": [
    {
     "name": "stdout",
     "output_type": "stream",
     "text": [
      "The accuracy score of the Logistics Regression Model is: 0.9333333333333333\n"
     ]
    }
   ],
   "source": [
    "print(\"The accuracy score of the Logistics Regression Model is:\",acc1)"
   ]
  },
  {
   "cell_type": "code",
   "execution_count": null,
   "id": "d8add81c",
   "metadata": {},
   "outputs": [],
   "source": []
  },
  {
   "cell_type": "markdown",
   "id": "9767bef1",
   "metadata": {},
   "source": [
    "# Desicion Tree"
   ]
  },
  {
   "cell_type": "code",
   "execution_count": 357,
   "id": "5313604e",
   "metadata": {},
   "outputs": [],
   "source": [
    "model_2=DecisionTreeClassifier()"
   ]
  },
  {
   "cell_type": "code",
   "execution_count": 358,
   "id": "fea0fa2f",
   "metadata": {},
   "outputs": [
    {
     "data": {
      "text/plain": [
       "DecisionTreeClassifier()"
      ]
     },
     "execution_count": 358,
     "metadata": {},
     "output_type": "execute_result"
    }
   ],
   "source": [
    "model_2.fit(x_train,y_train)"
   ]
  },
  {
   "cell_type": "code",
   "execution_count": 359,
   "id": "b9c980ed",
   "metadata": {},
   "outputs": [],
   "source": [
    "y_pred=model_2.predict(x_test)"
   ]
  },
  {
   "cell_type": "code",
   "execution_count": null,
   "id": "0d683247",
   "metadata": {},
   "outputs": [],
   "source": []
  },
  {
   "cell_type": "code",
   "execution_count": 360,
   "id": "5c3e2c16",
   "metadata": {},
   "outputs": [],
   "source": [
    "acc2 = accuracy_score(y_pred,y_test)"
   ]
  },
  {
   "cell_type": "code",
   "execution_count": 361,
   "id": "6bd1b2a4",
   "metadata": {},
   "outputs": [
    {
     "name": "stdout",
     "output_type": "stream",
     "text": [
      "The accuracy score of the Desicion Tree Model is: 0.9666666666666667\n"
     ]
    }
   ],
   "source": [
    "print(\"The accuracy score of the Desicion Tree Model is:\",acc2)"
   ]
  },
  {
   "cell_type": "code",
   "execution_count": null,
   "id": "2d1702dc",
   "metadata": {},
   "outputs": [],
   "source": []
  },
  {
   "cell_type": "markdown",
   "id": "9111cb3a",
   "metadata": {},
   "source": [
    "# Support Vector Machine"
   ]
  },
  {
   "cell_type": "code",
   "execution_count": 362,
   "id": "938efa04",
   "metadata": {},
   "outputs": [],
   "source": [
    "model_3 = SVC()"
   ]
  },
  {
   "cell_type": "code",
   "execution_count": 363,
   "id": "62fa7d0d",
   "metadata": {},
   "outputs": [
    {
     "data": {
      "text/plain": [
       "SVC()"
      ]
     },
     "execution_count": 363,
     "metadata": {},
     "output_type": "execute_result"
    }
   ],
   "source": [
    "model_3.fit(x_train,y_train)"
   ]
  },
  {
   "cell_type": "code",
   "execution_count": 364,
   "id": "6c663cbb",
   "metadata": {},
   "outputs": [],
   "source": [
    "y_pred=model_3.predict(x_test)"
   ]
  },
  {
   "cell_type": "code",
   "execution_count": null,
   "id": "7bee7fbc",
   "metadata": {},
   "outputs": [],
   "source": []
  },
  {
   "cell_type": "code",
   "execution_count": 365,
   "id": "3de7962f",
   "metadata": {},
   "outputs": [],
   "source": [
    "acc3 = accuracy_score(y_pred,y_test)"
   ]
  },
  {
   "cell_type": "code",
   "execution_count": 366,
   "id": "56a77a2c",
   "metadata": {},
   "outputs": [
    {
     "name": "stdout",
     "output_type": "stream",
     "text": [
      "The accuracy score of the Support Vector Machine Model is: 0.9333333333333333\n"
     ]
    }
   ],
   "source": [
    "print(\"The accuracy score of the Support Vector Machine Model is:\",acc3)"
   ]
  },
  {
   "cell_type": "code",
   "execution_count": null,
   "id": "d12e128e",
   "metadata": {},
   "outputs": [],
   "source": []
  },
  {
   "cell_type": "markdown",
   "id": "73ffc787",
   "metadata": {},
   "source": [
    "# GradientBoostingClassifier"
   ]
  },
  {
   "cell_type": "code",
   "execution_count": 367,
   "id": "a9972a12",
   "metadata": {},
   "outputs": [],
   "source": [
    "model_4 = GradientBoostingClassifier()"
   ]
  },
  {
   "cell_type": "code",
   "execution_count": 368,
   "id": "9c164af7",
   "metadata": {},
   "outputs": [
    {
     "data": {
      "text/plain": [
       "GradientBoostingClassifier()"
      ]
     },
     "execution_count": 368,
     "metadata": {},
     "output_type": "execute_result"
    }
   ],
   "source": [
    "model_4.fit(x_train,y_train)"
   ]
  },
  {
   "cell_type": "code",
   "execution_count": 369,
   "id": "c3ae7ab0",
   "metadata": {},
   "outputs": [],
   "source": [
    "y_pred = model_4.predict(x_test)"
   ]
  },
  {
   "cell_type": "code",
   "execution_count": 370,
   "id": "94a4a92b",
   "metadata": {},
   "outputs": [],
   "source": [
    "acc4 = accuracy_score(y_test,y_pred)"
   ]
  },
  {
   "cell_type": "code",
   "execution_count": 371,
   "id": "15d21245",
   "metadata": {},
   "outputs": [
    {
     "name": "stdout",
     "output_type": "stream",
     "text": [
      "The accuracy score of the Support Vector Machine Model is: 0.9333333333333333\n"
     ]
    }
   ],
   "source": [
    "print(\"The accuracy score of the Support Vector Machine Model is:\",acc4)"
   ]
  },
  {
   "cell_type": "code",
   "execution_count": null,
   "id": "a6655073",
   "metadata": {},
   "outputs": [],
   "source": []
  },
  {
   "cell_type": "markdown",
   "id": "099748a6",
   "metadata": {},
   "source": [
    "# K_Nearest_Neighbours"
   ]
  },
  {
   "cell_type": "code",
   "execution_count": 372,
   "id": "ddc1a3bd",
   "metadata": {},
   "outputs": [],
   "source": [
    "model_5 = KNeighborsClassifier()"
   ]
  },
  {
   "cell_type": "code",
   "execution_count": 373,
   "id": "00303093",
   "metadata": {},
   "outputs": [
    {
     "data": {
      "text/plain": [
       "KNeighborsClassifier()"
      ]
     },
     "execution_count": 373,
     "metadata": {},
     "output_type": "execute_result"
    }
   ],
   "source": [
    "model_5.fit(x_train,y_train)"
   ]
  },
  {
   "cell_type": "code",
   "execution_count": 374,
   "id": "8c173960",
   "metadata": {},
   "outputs": [],
   "source": [
    "y_pred=model_5.predict(x_test)"
   ]
  },
  {
   "cell_type": "code",
   "execution_count": 375,
   "id": "afb1d70f",
   "metadata": {},
   "outputs": [],
   "source": [
    "acc5 = accuracy_score(y_pred,y_test)"
   ]
  },
  {
   "cell_type": "code",
   "execution_count": 376,
   "id": "4b385deb",
   "metadata": {},
   "outputs": [
    {
     "name": "stdout",
     "output_type": "stream",
     "text": [
      "The accuracy score of the Support Vector Machine Model is: 0.9333333333333333\n"
     ]
    }
   ],
   "source": [
    "print(\"The accuracy score of the Support Vector Machine Model is:\",acc5)"
   ]
  },
  {
   "cell_type": "code",
   "execution_count": null,
   "id": "842aeda1",
   "metadata": {},
   "outputs": [],
   "source": []
  },
  {
   "cell_type": "code",
   "execution_count": null,
   "id": "aa25770f",
   "metadata": {},
   "outputs": [],
   "source": []
  },
  {
   "cell_type": "markdown",
   "id": "693de77c",
   "metadata": {},
   "source": [
    "# Accuracy Score of 5 Different Algorithms are as follow:"
   ]
  },
  {
   "cell_type": "code",
   "execution_count": 388,
   "id": "5a2d6c35",
   "metadata": {},
   "outputs": [
    {
     "data": {
      "text/html": [
       "<div>\n",
       "<style scoped>\n",
       "    .dataframe tbody tr th:only-of-type {\n",
       "        vertical-align: middle;\n",
       "    }\n",
       "\n",
       "    .dataframe tbody tr th {\n",
       "        vertical-align: top;\n",
       "    }\n",
       "\n",
       "    .dataframe thead th {\n",
       "        text-align: right;\n",
       "    }\n",
       "</style>\n",
       "<table border=\"1\" class=\"dataframe\">\n",
       "  <thead>\n",
       "    <tr style=\"text-align: right;\">\n",
       "      <th></th>\n",
       "      <th>Model</th>\n",
       "      <th>Accuracy</th>\n",
       "    </tr>\n",
       "  </thead>\n",
       "  <tbody>\n",
       "    <tr>\n",
       "      <th>0</th>\n",
       "      <td>Logistics Regression</td>\n",
       "      <td>0.933333</td>\n",
       "    </tr>\n",
       "    <tr>\n",
       "      <th>1</th>\n",
       "      <td>Desicion Tree</td>\n",
       "      <td>0.966667</td>\n",
       "    </tr>\n",
       "    <tr>\n",
       "      <th>2</th>\n",
       "      <td>SVM</td>\n",
       "      <td>0.933333</td>\n",
       "    </tr>\n",
       "    <tr>\n",
       "      <th>3</th>\n",
       "      <td>GBC</td>\n",
       "      <td>0.933333</td>\n",
       "    </tr>\n",
       "    <tr>\n",
       "      <th>4</th>\n",
       "      <td>KNN</td>\n",
       "      <td>0.933333</td>\n",
       "    </tr>\n",
       "  </tbody>\n",
       "</table>\n",
       "</div>"
      ],
      "text/plain": [
       "                  Model  Accuracy\n",
       "0  Logistics Regression  0.933333\n",
       "1         Desicion Tree  0.966667\n",
       "2                   SVM  0.933333\n",
       "3                   GBC  0.933333\n",
       "4                   KNN  0.933333"
      ]
     },
     "execution_count": 388,
     "metadata": {},
     "output_type": "execute_result"
    }
   ],
   "source": [
    "dff=pd.DataFrame({ \"Model\" : ['Logistics Regression',\"Desicion Tree\",'SVM','GBC','KNN'] , \"Accuracy\" : [acc1,acc2,acc3,acc4,acc5] })\n",
    "dff"
   ]
  },
  {
   "cell_type": "code",
   "execution_count": 389,
   "id": "814982e6",
   "metadata": {},
   "outputs": [
    {
     "data": {
      "image/png": "[encoded data removed]",
      "text/plain": [
       "<Figure size 432x288 with 1 Axes>"
      ]
     },
     "metadata": {
      "needs_background": "light"
     },
     "output_type": "display_data"
    }
   ],
   "source": [
    "sns.barplot(dff['Accuracy'],dff['Model']);"
   ]
  },
  {
   "cell_type": "code",
   "execution_count": null,
   "id": "7a1725f9",
   "metadata": {},
   "outputs": [],
   "source": []
  },
  {
   "cell_type": "code",
   "execution_count": 380,
   "id": "4704fa34",
   "metadata": {},
   "outputs": [],
   "source": [
    "import joblib as jb"
   ]
  },
  {
   "cell_type": "code",
   "execution_count": 381,
   "id": "fc704366",
   "metadata": {},
   "outputs": [
    {
     "data": {
      "text/plain": [
       "['Iris Flower Classification']"
      ]
     },
     "execution_count": 381,
     "metadata": {},
     "output_type": "execute_result"
    }
   ],
   "source": [
    "jb.dump(model_5,\"Iris Flower Classification\")"
   ]
  },
  {
   "cell_type": "code",
   "execution_count": 382,
   "id": "a144f9be",
   "metadata": {},
   "outputs": [],
   "source": [
    "abc=jb.load(\"Iris Flower Classification\")"
   ]
  },
  {
   "cell_type": "code",
   "execution_count": null,
   "id": "36ae0dcd",
   "metadata": {},
   "outputs": [],
   "source": []
  },
  {
   "cell_type": "code",
   "execution_count": 384,
   "id": "4710830c",
   "metadata": {},
   "outputs": [
    {
     "name": "stdout",
     "output_type": "stream",
     "text": [
      "Enter the sepal_length: 5\n",
      "Enter the sepal_width: 5\n",
      "Enter the petal_length: 5\n",
      "Enter the petal_width: 5\n"
     ]
    }
   ],
   "source": [
    "v1 = int(input(\"Enter the sepal_length: \"))\n",
    "v2 = int(input(\"Enter the sepal_width: \"))\n",
    "v3 = int(input(\"Enter the petal_length: \"))\n",
    "v4 = int(input(\"Enter the petal_width: \"))"
   ]
  },
  {
   "cell_type": "code",
   "execution_count": null,
   "id": "0eafdfbd",
   "metadata": {},
   "outputs": [],
   "source": []
  },
  {
   "cell_type": "code",
   "execution_count": 385,
   "id": "775c4481",
   "metadata": {},
   "outputs": [
    {
     "name": "stdout",
     "output_type": "stream",
     "text": [
      "According to K_Nearest_Neighbours Algorithm the output of above features are: Iris-virginica\n"
     ]
    }
   ],
   "source": [
    "result=abc.predict([[v1,v2,v3,v4]])\n",
    "\n",
    "print(\"According to K_Nearest_Neighbours Algorithm the output of above features are:\",result[0])"
   ]
  },
  {
   "cell_type": "code",
   "execution_count": null,
   "id": "b8d21376",
   "metadata": {},
   "outputs": [],
   "source": []
  },
  {
   "cell_type": "code",
   "execution_count": null,
   "id": "655c0ffe",
   "metadata": {},
   "outputs": [],
   "source": []
  },
  {
   "cell_type": "code",
   "execution_count": null,
   "id": "8db54bee",
   "metadata": {},
   "outputs": [],
   "source": []
  },
  {
   "cell_type": "code",
   "execution_count": null,
   "id": "cd71ccd2",
   "metadata": {},
   "outputs": [],
   "source": []
  },
  {
   "cell_type": "code",
   "execution_count": null,
   "id": "fcbd6f36",
   "metadata": {},
   "outputs": [],
   "source": []
  }
 ],
 "metadata": {
  "kernelspec": {
   "display_name": "Python 3",
   "language": "python",
   "name": "python3"
  },
  "language_info": {
   "codemirror_mode": {
    "name": "ipython",
    "version": 3
   },
   "file_extension": ".py",
   "mimetype": "text/x-python",
   "name": "python",
   "nbconvert_exporter": "python",
   "pygments_lexer": "ipython3",
   "version": "3.8.8"
  }
 },
 "nbformat": 4,
 "nbformat_minor": 5
}
